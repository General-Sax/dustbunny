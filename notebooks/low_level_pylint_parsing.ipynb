{
 "cells": [
  {
   "cell_type": "code",
   "execution_count": 66,
   "metadata": {},
   "outputs": [],
   "source": [
    "import os\n",
    "from collections import namedtuple"
   ]
  },
  {
   "cell_type": "markdown",
   "metadata": {},
   "source": [
    "Note: pylint can be run on whole directories!"
   ]
  },
  {
   "cell_type": "code",
   "execution_count": 58,
   "metadata": {},
   "outputs": [],
   "source": [
    "test_target = './spellbook/familiars/inspector_gadget/gadget.py'"
   ]
  },
  {
   "cell_type": "code",
   "execution_count": 59,
   "metadata": {},
   "outputs": [],
   "source": [
    "def load_text(path):\n",
    "    with open(os.path.join(path), 'r') as temp_file:\n",
    "        text = temp_file.read()\n",
    "    return text"
   ]
  },
  {
   "cell_type": "code",
   "execution_count": 60,
   "metadata": {},
   "outputs": [],
   "source": [
    "def lint_load_cleanup(linting_target_path, temp_file_path=None):\n",
    "    if temp_file_path is None:\n",
    "        raw_output_file = os.path.join('./temp_pylint_output.txt')\n",
    "    else:\n",
    "        raw_output_file = os.path.join(temp_file_path)\n",
    "    linting_target = os.path.join(linting_target_path)\n",
    "    os.system(f'python -m pylint {linting_target_path} > {raw_output_file}')\n",
    "    text = load_text(raw_output_file)\n",
    "    os.system(f'rm {raw_output_file}')\n",
    "    return text"
   ]
  },
  {
   "cell_type": "code",
   "execution_count": 61,
   "metadata": {},
   "outputs": [],
   "source": [
    "def raw_text_to_lines(text):\n",
    "    ''''''\n",
    "    output = tuple(line.strip() for line in text.strip().split('\\n') if line)\n",
    "    return output"
   ]
  },
  {
   "cell_type": "code",
   "execution_count": 62,
   "metadata": {},
   "outputs": [],
   "source": [
    "def partition_lines(lines):\n",
    "    header = lines[0]\n",
    "    body = lines[1:-2]\n",
    "    score = lines[-1]\n",
    "    return header, body, score"
   ]
  },
  {
   "cell_type": "code",
   "execution_count": 63,
   "metadata": {},
   "outputs": [],
   "source": [
    "def extract_score_line_tuple(preprocessed_lines):\n",
    "    ''''''\n",
    "    expected_line = preprocessed_lines[-1]\n",
    "    if (len(expected_line) > 9) and (expected_line[0:9] == \"Your code\"):\n",
    "        return tuple(expected_line.split())\n",
    "    else:\n",
    "        for line in preprocessed_lines:\n",
    "            if (len(line) > 9) and (line[0:9] == \"Your code\"):\n",
    "                return tuple(line.split())\n",
    "    raise RuntimeError(\"no score line was found!\")"
   ]
  },
  {
   "cell_type": "code",
   "execution_count": 69,
   "metadata": {},
   "outputs": [],
   "source": [
    "Score = namedtuple('Score', ('current', 'previous', 'delta'))\n",
    "\n",
    "def parse_score(score_line):\n",
    "    words = score_line.split()\n",
    "    current = words[6]\n",
    "    if len(words) == 7:\n",
    "        previous = None\n",
    "        delta = None\n",
    "    else:\n",
    "        previous = words[9][:-1]\n",
    "        delta = words[10][:-1]\n",
    "    score_holder = Score(current, previous, delta)\n",
    "    return score_holder"
   ]
  },
  {
   "cell_type": "code",
   "execution_count": 75,
   "metadata": {},
   "outputs": [],
   "source": [
    "def numeric_score(score):\n",
    "    assert isinstance(score, Score)\n",
    "    num_score = Score(\n",
    "        float(score.current.split('/')[0]),\n",
    "        float(score.previous.split('/')[0]),\n",
    "        float(score.delta)\n",
    "    )\n",
    "    return num_score"
   ]
  },
  {
   "cell_type": "code",
   "execution_count": 77,
   "metadata": {},
   "outputs": [],
   "source": [
    "text = lint_load_cleanup(test_target)\n",
    "lines = raw_text_to_lines(text)\n",
    "header_line, body_lines, score_line = partition_lines(lines)\n",
    "score = parse_score(score_line)\n",
    "num_score = numeric_score(score)"
   ]
  },
  {
   "cell_type": "code",
   "execution_count": 78,
   "metadata": {},
   "outputs": [
    {
     "name": "stdout",
     "output_type": "stream",
     "text": [
      "Score(current='3.52/10', previous='3.52/10', delta='+0.00')\n",
      "Score(current=3.52, previous=3.52, delta=0.0)\n"
     ]
    }
   ],
   "source": [
    "print(score)\n",
    "print(num_score)"
   ]
  },
  {
   "cell_type": "code",
   "execution_count": 79,
   "metadata": {},
   "outputs": [],
   "source": [
    "from itertools import takewhile"
   ]
  },
  {
   "cell_type": "code",
   "execution_count": null,
   "metadata": {},
   "outputs": [],
   "source": []
  },
  {
   "cell_type": "code",
   "execution_count": 101,
   "metadata": {},
   "outputs": [],
   "source": [
    "PylintItem = namedtuple('PylintItem', ('line_number', 'error_code', 'concise', 'message', 'unknown'))\n",
    "\n",
    "def body_to_row_tuples(body_lines):\n",
    "    ''''''\n",
    "    colon_split = [line.split(':') for line in body_lines]\n",
    "    clean_lines = [[entry.strip() for entry in line[1:]] for line in colon_split]\n",
    "    output = []\n",
    "    for line in clean_lines:\n",
    "        if len(line) != 4:\n",
    "            raise NotImplementedError('No handling for this line format!')\n",
    "        \n",
    "        line_number = line[0]\n",
    "        unknown = line[1]\n",
    "        error_code = line[2]\n",
    "        message = ''.join([char for char in takewhile(lambda x: x != '(', line[3])][:-1])\n",
    "        concise = line[3].split('(')[-1][:-1]\n",
    "        \n",
    "        final_line = PylintItem(\n",
    "            line_number,\n",
    "            error_code,\n",
    "            concise,\n",
    "            message,\n",
    "            unknown\n",
    "        )\n",
    "        output.append(final_line)\n",
    "    return output"
   ]
  },
  {
   "cell_type": "code",
   "execution_count": 92,
   "metadata": {},
   "outputs": [],
   "source": [
    "import pandas as pd"
   ]
  },
  {
   "cell_type": "code",
   "execution_count": 102,
   "metadata": {},
   "outputs": [],
   "source": [
    "def rows_to_dataframe(pylint_items):\n",
    "    columns = {\n",
    "        'line_number': [],\n",
    "        'error_code': [],\n",
    "        'concise': [],\n",
    "        'message': [],\n",
    "        'unknown': [],\n",
    "    }\n",
    "    \n",
    "    for item in pylint_items:\n",
    "        columns['line_number'].append(item.line_number)\n",
    "        columns['error_code'].append(item.error_code)\n",
    "        columns['concise'].append(item.concise)\n",
    "        columns['message'].append(item.message)\n",
    "        columns['unknown'].append(item.unknown)\n",
    "    df = pd.DataFrame(data=columns)\n",
    "    return df\n",
    "        \n",
    "        "
   ]
  },
  {
   "cell_type": "code",
   "execution_count": 103,
   "metadata": {},
   "outputs": [
    {
     "data": {
      "text/plain": [
       "[PylintItem(line_number='1', error_code='C0111', concise='missing-docstring', message='Missing module docstring', unknown='0'),\n",
       " PylintItem(line_number='13', error_code='C0103', concise='invalid-name', message='Constant name \"typedefs\" doesn\\'t conform to UPPER_CASE naming style', unknown='0'),\n",
       " PylintItem(line_number='19', error_code='C0111', concise='missing-docstring', message='Missing function docstring', unknown='0'),\n",
       " PylintItem(line_number='19', error_code='W0622', concise='redefined-builtin', message=\"Redefining built-in 'object'\", unknown='12'),\n",
       " PylintItem(line_number='23', error_code='C0103', concise='invalid-name', message='Constant name \"common_attrs\" doesn\\'t conform to UPPER_CASE naming style', unknown='0'),\n",
       " PylintItem(line_number='25', error_code='C0103', concise='invalid-name', message='Constant name \"all_attrs\" doesn\\'t conform to UPPER_CASE naming style', unknown='0'),\n",
       " PylintItem(line_number='61', error_code='C0111', concise='missing-docstring', message='Missing class docstring', unknown='0'),\n",
       " PylintItem(line_number='66', error_code='C0111', concise='missing-docstring', message='Missing method docstring', unknown='4'),\n",
       " PylintItem(line_number='74', error_code='C0111', concise='missing-docstring', message='Missing method docstring', unknown='4'),\n",
       " PylintItem(line_number='79', error_code='C0111', concise='missing-docstring', message='Missing method docstring', unknown='4'),\n",
       " PylintItem(line_number='80', error_code='W0104', concise='pointless-statement', message='Statement seems to have no effect', unknown='8'),\n",
       " PylintItem(line_number='80', error_code='E0602', concise='undefined-variable', message=\"Undefined variable 'type_string'\", unknown='8'),\n",
       " PylintItem(line_number='85', error_code='C0111', concise='missing-docstring', message='Missing method docstring', unknown='4'),\n",
       " PylintItem(line_number='88', error_code='C0111', concise='missing-docstring', message='Missing method docstring', unknown='4'),\n",
       " PylintItem(line_number='107', error_code='E1102', concise='not-callable', message='self.fullname is not callable', unknown='41'),\n",
       " PylintItem(line_number='95', error_code='W0612', concise='unused-variable', message=\"Unused variable 'dirset'\", unknown='8'),\n",
       " PylintItem(line_number='96', error_code='W0612', concise='unused-variable', message=\"Unused variable 'dictset'\", unknown='8'),\n",
       " PylintItem(line_number='117', error_code='C0111', concise='missing-docstring', message='Missing method docstring', unknown='4'),\n",
       " PylintItem(line_number='125', error_code='W0612', concise='unused-variable', message=\"Unused variable 'longest'\", unknown='8'),\n",
       " PylintItem(line_number='132', error_code='C0111', concise='missing-docstring', message='Missing method docstring', unknown='4'),\n",
       " PylintItem(line_number='137', error_code='C0111', concise='missing-docstring', message='Missing function docstring', unknown='0'),\n",
       " PylintItem(line_number='139', error_code='E1120', concise='no-value-for-parameter', message=\"No value for argument 'report_data' in method call\", unknown='17'),\n",
       " PylintItem(line_number='10', error_code='W0611', concise='unused-import', message='Unused SimpleNamespace imported from types', unknown='0')]"
      ]
     },
     "execution_count": 103,
     "metadata": {},
     "output_type": "execute_result"
    }
   ],
   "source": [
    "rows = body_to_row_tuples(body_lines)\n",
    "rows"
   ]
  },
  {
   "cell_type": "code",
   "execution_count": 104,
   "metadata": {},
   "outputs": [
    {
     "data": {
      "text/html": [
       "<div>\n",
       "<style scoped>\n",
       "    .dataframe tbody tr th:only-of-type {\n",
       "        vertical-align: middle;\n",
       "    }\n",
       "\n",
       "    .dataframe tbody tr th {\n",
       "        vertical-align: top;\n",
       "    }\n",
       "\n",
       "    .dataframe thead th {\n",
       "        text-align: right;\n",
       "    }\n",
       "</style>\n",
       "<table border=\"1\" class=\"dataframe\">\n",
       "  <thead>\n",
       "    <tr style=\"text-align: right;\">\n",
       "      <th></th>\n",
       "      <th>line_number</th>\n",
       "      <th>error_code</th>\n",
       "      <th>concise</th>\n",
       "      <th>message</th>\n",
       "      <th>unknown</th>\n",
       "    </tr>\n",
       "  </thead>\n",
       "  <tbody>\n",
       "    <tr>\n",
       "      <th>0</th>\n",
       "      <td>1</td>\n",
       "      <td>C0111</td>\n",
       "      <td>missing-docstring</td>\n",
       "      <td>Missing module docstring</td>\n",
       "      <td>0</td>\n",
       "    </tr>\n",
       "    <tr>\n",
       "      <th>1</th>\n",
       "      <td>13</td>\n",
       "      <td>C0103</td>\n",
       "      <td>invalid-name</td>\n",
       "      <td>Constant name \"typedefs\" doesn't conform to UP...</td>\n",
       "      <td>0</td>\n",
       "    </tr>\n",
       "    <tr>\n",
       "      <th>2</th>\n",
       "      <td>19</td>\n",
       "      <td>C0111</td>\n",
       "      <td>missing-docstring</td>\n",
       "      <td>Missing function docstring</td>\n",
       "      <td>0</td>\n",
       "    </tr>\n",
       "    <tr>\n",
       "      <th>3</th>\n",
       "      <td>19</td>\n",
       "      <td>W0622</td>\n",
       "      <td>redefined-builtin</td>\n",
       "      <td>Redefining built-in 'object'</td>\n",
       "      <td>12</td>\n",
       "    </tr>\n",
       "    <tr>\n",
       "      <th>4</th>\n",
       "      <td>23</td>\n",
       "      <td>C0103</td>\n",
       "      <td>invalid-name</td>\n",
       "      <td>Constant name \"common_attrs\" doesn't conform t...</td>\n",
       "      <td>0</td>\n",
       "    </tr>\n",
       "    <tr>\n",
       "      <th>5</th>\n",
       "      <td>25</td>\n",
       "      <td>C0103</td>\n",
       "      <td>invalid-name</td>\n",
       "      <td>Constant name \"all_attrs\" doesn't conform to U...</td>\n",
       "      <td>0</td>\n",
       "    </tr>\n",
       "    <tr>\n",
       "      <th>6</th>\n",
       "      <td>61</td>\n",
       "      <td>C0111</td>\n",
       "      <td>missing-docstring</td>\n",
       "      <td>Missing class docstring</td>\n",
       "      <td>0</td>\n",
       "    </tr>\n",
       "    <tr>\n",
       "      <th>7</th>\n",
       "      <td>66</td>\n",
       "      <td>C0111</td>\n",
       "      <td>missing-docstring</td>\n",
       "      <td>Missing method docstring</td>\n",
       "      <td>4</td>\n",
       "    </tr>\n",
       "    <tr>\n",
       "      <th>8</th>\n",
       "      <td>74</td>\n",
       "      <td>C0111</td>\n",
       "      <td>missing-docstring</td>\n",
       "      <td>Missing method docstring</td>\n",
       "      <td>4</td>\n",
       "    </tr>\n",
       "    <tr>\n",
       "      <th>9</th>\n",
       "      <td>79</td>\n",
       "      <td>C0111</td>\n",
       "      <td>missing-docstring</td>\n",
       "      <td>Missing method docstring</td>\n",
       "      <td>4</td>\n",
       "    </tr>\n",
       "    <tr>\n",
       "      <th>10</th>\n",
       "      <td>80</td>\n",
       "      <td>W0104</td>\n",
       "      <td>pointless-statement</td>\n",
       "      <td>Statement seems to have no effect</td>\n",
       "      <td>8</td>\n",
       "    </tr>\n",
       "    <tr>\n",
       "      <th>11</th>\n",
       "      <td>80</td>\n",
       "      <td>E0602</td>\n",
       "      <td>undefined-variable</td>\n",
       "      <td>Undefined variable 'type_string'</td>\n",
       "      <td>8</td>\n",
       "    </tr>\n",
       "    <tr>\n",
       "      <th>12</th>\n",
       "      <td>85</td>\n",
       "      <td>C0111</td>\n",
       "      <td>missing-docstring</td>\n",
       "      <td>Missing method docstring</td>\n",
       "      <td>4</td>\n",
       "    </tr>\n",
       "    <tr>\n",
       "      <th>13</th>\n",
       "      <td>88</td>\n",
       "      <td>C0111</td>\n",
       "      <td>missing-docstring</td>\n",
       "      <td>Missing method docstring</td>\n",
       "      <td>4</td>\n",
       "    </tr>\n",
       "    <tr>\n",
       "      <th>14</th>\n",
       "      <td>107</td>\n",
       "      <td>E1102</td>\n",
       "      <td>not-callable</td>\n",
       "      <td>self.fullname is not callable</td>\n",
       "      <td>41</td>\n",
       "    </tr>\n",
       "    <tr>\n",
       "      <th>15</th>\n",
       "      <td>95</td>\n",
       "      <td>W0612</td>\n",
       "      <td>unused-variable</td>\n",
       "      <td>Unused variable 'dirset'</td>\n",
       "      <td>8</td>\n",
       "    </tr>\n",
       "    <tr>\n",
       "      <th>16</th>\n",
       "      <td>96</td>\n",
       "      <td>W0612</td>\n",
       "      <td>unused-variable</td>\n",
       "      <td>Unused variable 'dictset'</td>\n",
       "      <td>8</td>\n",
       "    </tr>\n",
       "    <tr>\n",
       "      <th>17</th>\n",
       "      <td>117</td>\n",
       "      <td>C0111</td>\n",
       "      <td>missing-docstring</td>\n",
       "      <td>Missing method docstring</td>\n",
       "      <td>4</td>\n",
       "    </tr>\n",
       "    <tr>\n",
       "      <th>18</th>\n",
       "      <td>125</td>\n",
       "      <td>W0612</td>\n",
       "      <td>unused-variable</td>\n",
       "      <td>Unused variable 'longest'</td>\n",
       "      <td>8</td>\n",
       "    </tr>\n",
       "    <tr>\n",
       "      <th>19</th>\n",
       "      <td>132</td>\n",
       "      <td>C0111</td>\n",
       "      <td>missing-docstring</td>\n",
       "      <td>Missing method docstring</td>\n",
       "      <td>4</td>\n",
       "    </tr>\n",
       "    <tr>\n",
       "      <th>20</th>\n",
       "      <td>137</td>\n",
       "      <td>C0111</td>\n",
       "      <td>missing-docstring</td>\n",
       "      <td>Missing function docstring</td>\n",
       "      <td>0</td>\n",
       "    </tr>\n",
       "    <tr>\n",
       "      <th>21</th>\n",
       "      <td>139</td>\n",
       "      <td>E1120</td>\n",
       "      <td>no-value-for-parameter</td>\n",
       "      <td>No value for argument 'report_data' in method ...</td>\n",
       "      <td>17</td>\n",
       "    </tr>\n",
       "    <tr>\n",
       "      <th>22</th>\n",
       "      <td>10</td>\n",
       "      <td>W0611</td>\n",
       "      <td>unused-import</td>\n",
       "      <td>Unused SimpleNamespace imported from types</td>\n",
       "      <td>0</td>\n",
       "    </tr>\n",
       "  </tbody>\n",
       "</table>\n",
       "</div>"
      ],
      "text/plain": [
       "   line_number error_code                 concise  \\\n",
       "0            1      C0111       missing-docstring   \n",
       "1           13      C0103            invalid-name   \n",
       "2           19      C0111       missing-docstring   \n",
       "3           19      W0622       redefined-builtin   \n",
       "4           23      C0103            invalid-name   \n",
       "5           25      C0103            invalid-name   \n",
       "6           61      C0111       missing-docstring   \n",
       "7           66      C0111       missing-docstring   \n",
       "8           74      C0111       missing-docstring   \n",
       "9           79      C0111       missing-docstring   \n",
       "10          80      W0104     pointless-statement   \n",
       "11          80      E0602      undefined-variable   \n",
       "12          85      C0111       missing-docstring   \n",
       "13          88      C0111       missing-docstring   \n",
       "14         107      E1102            not-callable   \n",
       "15          95      W0612         unused-variable   \n",
       "16          96      W0612         unused-variable   \n",
       "17         117      C0111       missing-docstring   \n",
       "18         125      W0612         unused-variable   \n",
       "19         132      C0111       missing-docstring   \n",
       "20         137      C0111       missing-docstring   \n",
       "21         139      E1120  no-value-for-parameter   \n",
       "22          10      W0611           unused-import   \n",
       "\n",
       "                                              message unknown  \n",
       "0                            Missing module docstring       0  \n",
       "1   Constant name \"typedefs\" doesn't conform to UP...       0  \n",
       "2                          Missing function docstring       0  \n",
       "3                        Redefining built-in 'object'      12  \n",
       "4   Constant name \"common_attrs\" doesn't conform t...       0  \n",
       "5   Constant name \"all_attrs\" doesn't conform to U...       0  \n",
       "6                             Missing class docstring       0  \n",
       "7                            Missing method docstring       4  \n",
       "8                            Missing method docstring       4  \n",
       "9                            Missing method docstring       4  \n",
       "10                  Statement seems to have no effect       8  \n",
       "11                   Undefined variable 'type_string'       8  \n",
       "12                           Missing method docstring       4  \n",
       "13                           Missing method docstring       4  \n",
       "14                      self.fullname is not callable      41  \n",
       "15                           Unused variable 'dirset'       8  \n",
       "16                          Unused variable 'dictset'       8  \n",
       "17                           Missing method docstring       4  \n",
       "18                          Unused variable 'longest'       8  \n",
       "19                           Missing method docstring       4  \n",
       "20                         Missing function docstring       0  \n",
       "21  No value for argument 'report_data' in method ...      17  \n",
       "22         Unused SimpleNamespace imported from types       0  "
      ]
     },
     "execution_count": 104,
     "metadata": {},
     "output_type": "execute_result"
    }
   ],
   "source": [
    "df = rows_to_dataframe(rows)\n",
    "df"
   ]
  },
  {
   "cell_type": "code",
   "execution_count": null,
   "metadata": {},
   "outputs": [],
   "source": []
  },
  {
   "cell_type": "code",
   "execution_count": 95,
   "metadata": {},
   "outputs": [
    {
     "data": {
      "text/plain": [
       "[PylintItem(line='1', code='C0111', concise='missing-docstring', message='Missing module docstring', unknown='0'),\n",
       " PylintItem(line='13', code='C0103', concise='invalid-name', message='Constant name \"typedefs\" doesn\\'t conform to UPPER_CASE naming style', unknown='0'),\n",
       " PylintItem(line='19', code='C0111', concise='missing-docstring', message='Missing function docstring', unknown='0'),\n",
       " PylintItem(line='19', code='W0622', concise='redefined-builtin', message=\"Redefining built-in 'object'\", unknown='12'),\n",
       " PylintItem(line='23', code='C0103', concise='invalid-name', message='Constant name \"common_attrs\" doesn\\'t conform to UPPER_CASE naming style', unknown='0'),\n",
       " PylintItem(line='25', code='C0103', concise='invalid-name', message='Constant name \"all_attrs\" doesn\\'t conform to UPPER_CASE naming style', unknown='0'),\n",
       " PylintItem(line='61', code='C0111', concise='missing-docstring', message='Missing class docstring', unknown='0'),\n",
       " PylintItem(line='66', code='C0111', concise='missing-docstring', message='Missing method docstring', unknown='4'),\n",
       " PylintItem(line='74', code='C0111', concise='missing-docstring', message='Missing method docstring', unknown='4'),\n",
       " PylintItem(line='79', code='C0111', concise='missing-docstring', message='Missing method docstring', unknown='4'),\n",
       " PylintItem(line='80', code='W0104', concise='pointless-statement', message='Statement seems to have no effect', unknown='8'),\n",
       " PylintItem(line='80', code='E0602', concise='undefined-variable', message=\"Undefined variable 'type_string'\", unknown='8'),\n",
       " PylintItem(line='85', code='C0111', concise='missing-docstring', message='Missing method docstring', unknown='4'),\n",
       " PylintItem(line='88', code='C0111', concise='missing-docstring', message='Missing method docstring', unknown='4'),\n",
       " PylintItem(line='107', code='E1102', concise='not-callable', message='self.fullname is not callable', unknown='41'),\n",
       " PylintItem(line='95', code='W0612', concise='unused-variable', message=\"Unused variable 'dirset'\", unknown='8'),\n",
       " PylintItem(line='96', code='W0612', concise='unused-variable', message=\"Unused variable 'dictset'\", unknown='8'),\n",
       " PylintItem(line='117', code='C0111', concise='missing-docstring', message='Missing method docstring', unknown='4'),\n",
       " PylintItem(line='125', code='W0612', concise='unused-variable', message=\"Unused variable 'longest'\", unknown='8'),\n",
       " PylintItem(line='132', code='C0111', concise='missing-docstring', message='Missing method docstring', unknown='4'),\n",
       " PylintItem(line='137', code='C0111', concise='missing-docstring', message='Missing function docstring', unknown='0'),\n",
       " PylintItem(line='139', code='E1120', concise='no-value-for-parameter', message=\"No value for argument 'report_data' in method call\", unknown='17'),\n",
       " PylintItem(line='10', code='W0611', concise='unused-import', message='Unused SimpleNamespace imported from types', unknown='0')]"
      ]
     },
     "execution_count": 95,
     "metadata": {},
     "output_type": "execute_result"
    }
   ],
   "source": []
  },
  {
   "cell_type": "code",
   "execution_count": 85,
   "metadata": {},
   "outputs": [
    {
     "name": "stdout",
     "output_type": "stream",
     "text": [
      "1\n",
      "2\n",
      "3\n",
      "4\n",
      "5\n"
     ]
    }
   ],
   "source": [
    "for entry in takewhile(lambda x: x != '(', [1, 2, 3, 4, 5, '(', 8, 9]):\n",
    "    print(entry)"
   ]
  },
  {
   "cell_type": "code",
   "execution_count": 80,
   "metadata": {},
   "outputs": [
    {
     "name": "stdout",
     "output_type": "stream",
     "text": [
      "Help on class takewhile in module itertools:\n",
      "\n",
      "class takewhile(builtins.object)\n",
      " |  takewhile(predicate, iterable) --> takewhile object\n",
      " |  \n",
      " |  Return successive entries from an iterable as long as the \n",
      " |  predicate evaluates to true for each entry.\n",
      " |  \n",
      " |  Methods defined here:\n",
      " |  \n",
      " |  __getattribute__(self, name, /)\n",
      " |      Return getattr(self, name).\n",
      " |  \n",
      " |  __iter__(self, /)\n",
      " |      Implement iter(self).\n",
      " |  \n",
      " |  __new__(*args, **kwargs) from builtins.type\n",
      " |      Create and return a new object.  See help(type) for accurate signature.\n",
      " |  \n",
      " |  __next__(self, /)\n",
      " |      Implement next(self).\n",
      " |  \n",
      " |  __reduce__(...)\n",
      " |      Return state information for pickling.\n",
      " |  \n",
      " |  __setstate__(...)\n",
      " |      Set state information for unpickling.\n",
      "\n"
     ]
    }
   ],
   "source": [
    "help(takewhile)"
   ]
  },
  {
   "cell_type": "code",
   "execution_count": 55,
   "metadata": {},
   "outputs": [],
   "source": [
    "text = lint_load_cleanup(test_target)"
   ]
  },
  {
   "cell_type": "code",
   "execution_count": 57,
   "metadata": {},
   "outputs": [
    {
     "data": {
      "text/plain": [
       "('************* Module inspector_gadget.gadget',\n",
       " 'spellbook\\\\familiars\\\\inspector_gadget\\\\gadget.py:1:0: C0111: Missing module docstring (missing-docstring)',\n",
       " 'spellbook\\\\familiars\\\\inspector_gadget\\\\gadget.py:13:0: C0103: Constant name \"typedefs\" doesn\\'t conform to UPPER_CASE naming style (invalid-name)',\n",
       " 'spellbook\\\\familiars\\\\inspector_gadget\\\\gadget.py:19:0: C0111: Missing function docstring (missing-docstring)',\n",
       " \"spellbook\\\\familiars\\\\inspector_gadget\\\\gadget.py:19:12: W0622: Redefining built-in 'object' (redefined-builtin)\",\n",
       " 'spellbook\\\\familiars\\\\inspector_gadget\\\\gadget.py:23:0: C0103: Constant name \"common_attrs\" doesn\\'t conform to UPPER_CASE naming style (invalid-name)',\n",
       " 'spellbook\\\\familiars\\\\inspector_gadget\\\\gadget.py:25:0: C0103: Constant name \"all_attrs\" doesn\\'t conform to UPPER_CASE naming style (invalid-name)',\n",
       " 'spellbook\\\\familiars\\\\inspector_gadget\\\\gadget.py:61:0: C0111: Missing class docstring (missing-docstring)',\n",
       " 'spellbook\\\\familiars\\\\inspector_gadget\\\\gadget.py:66:4: C0111: Missing method docstring (missing-docstring)',\n",
       " 'spellbook\\\\familiars\\\\inspector_gadget\\\\gadget.py:74:4: C0111: Missing method docstring (missing-docstring)',\n",
       " 'spellbook\\\\familiars\\\\inspector_gadget\\\\gadget.py:79:4: C0111: Missing method docstring (missing-docstring)',\n",
       " 'spellbook\\\\familiars\\\\inspector_gadget\\\\gadget.py:80:8: W0104: Statement seems to have no effect (pointless-statement)',\n",
       " \"spellbook\\\\familiars\\\\inspector_gadget\\\\gadget.py:80:8: E0602: Undefined variable 'type_string' (undefined-variable)\",\n",
       " 'spellbook\\\\familiars\\\\inspector_gadget\\\\gadget.py:85:4: C0111: Missing method docstring (missing-docstring)',\n",
       " 'spellbook\\\\familiars\\\\inspector_gadget\\\\gadget.py:88:4: C0111: Missing method docstring (missing-docstring)',\n",
       " 'spellbook\\\\familiars\\\\inspector_gadget\\\\gadget.py:107:41: E1102: self.fullname is not callable (not-callable)',\n",
       " \"spellbook\\\\familiars\\\\inspector_gadget\\\\gadget.py:95:8: W0612: Unused variable 'dirset' (unused-variable)\",\n",
       " \"spellbook\\\\familiars\\\\inspector_gadget\\\\gadget.py:96:8: W0612: Unused variable 'dictset' (unused-variable)\",\n",
       " 'spellbook\\\\familiars\\\\inspector_gadget\\\\gadget.py:117:4: C0111: Missing method docstring (missing-docstring)',\n",
       " \"spellbook\\\\familiars\\\\inspector_gadget\\\\gadget.py:125:8: W0612: Unused variable 'longest' (unused-variable)\",\n",
       " 'spellbook\\\\familiars\\\\inspector_gadget\\\\gadget.py:132:4: C0111: Missing method docstring (missing-docstring)',\n",
       " 'spellbook\\\\familiars\\\\inspector_gadget\\\\gadget.py:137:0: C0111: Missing function docstring (missing-docstring)',\n",
       " \"spellbook\\\\familiars\\\\inspector_gadget\\\\gadget.py:139:17: E1120: No value for argument 'report_data' in method call (no-value-for-parameter)\",\n",
       " 'spellbook\\\\familiars\\\\inspector_gadget\\\\gadget.py:10:0: W0611: Unused SimpleNamespace imported from types (unused-import)',\n",
       " '************* Module inspector_gadget.inspections',\n",
       " 'spellbook\\\\familiars\\\\inspector_gadget\\\\inspections.py:1:0: C0111: Missing module docstring (missing-docstring)',\n",
       " 'spellbook\\\\familiars\\\\inspector_gadget\\\\inspections.py:13:0: C0103: Constant name \"typedefs\" doesn\\'t conform to UPPER_CASE naming style (invalid-name)',\n",
       " 'spellbook\\\\familiars\\\\inspector_gadget\\\\inspections.py:19:0: C0111: Missing function docstring (missing-docstring)',\n",
       " \"spellbook\\\\familiars\\\\inspector_gadget\\\\inspections.py:19:12: W0622: Redefining built-in 'object' (redefined-builtin)\",\n",
       " 'spellbook\\\\familiars\\\\inspector_gadget\\\\inspections.py:23:0: C0103: Constant name \"common_attrs\" doesn\\'t conform to UPPER_CASE naming style (invalid-name)',\n",
       " 'spellbook\\\\familiars\\\\inspector_gadget\\\\inspections.py:25:0: C0103: Constant name \"all_attrs\" doesn\\'t conform to UPPER_CASE naming style (invalid-name)',\n",
       " 'spellbook\\\\familiars\\\\inspector_gadget\\\\inspections.py:72:0: C0111: Missing class docstring (missing-docstring)',\n",
       " 'spellbook\\\\familiars\\\\inspector_gadget\\\\inspections.py:77:4: C0111: Missing method docstring (missing-docstring)',\n",
       " \"spellbook\\\\familiars\\\\inspector_gadget\\\\inspections.py:77:22: E0602: Undefined variable 'Type' (undefined-variable)\",\n",
       " 'spellbook\\\\familiars\\\\inspector_gadget\\\\inspections.py:85:4: C0111: Missing method docstring (missing-docstring)',\n",
       " 'spellbook\\\\familiars\\\\inspector_gadget\\\\inspections.py:90:4: C0111: Missing method docstring (missing-docstring)',\n",
       " 'spellbook\\\\familiars\\\\inspector_gadget\\\\inspections.py:91:8: W0104: Statement seems to have no effect (pointless-statement)',\n",
       " \"spellbook\\\\familiars\\\\inspector_gadget\\\\inspections.py:91:8: E0602: Undefined variable 'type_string' (undefined-variable)\",\n",
       " 'spellbook\\\\familiars\\\\inspector_gadget\\\\inspections.py:96:4: C0111: Missing method docstring (missing-docstring)',\n",
       " \"spellbook\\\\familiars\\\\inspector_gadget\\\\inspections.py:96:26: E0602: Undefined variable 'Type' (undefined-variable)\",\n",
       " 'spellbook\\\\familiars\\\\inspector_gadget\\\\inspections.py:99:4: C0111: Missing method docstring (missing-docstring)',\n",
       " 'spellbook\\\\familiars\\\\inspector_gadget\\\\inspections.py:118:41: E1102: self.fullname is not callable (not-callable)',\n",
       " \"spellbook\\\\familiars\\\\inspector_gadget\\\\inspections.py:106:8: W0612: Unused variable 'dirset' (unused-variable)\",\n",
       " \"spellbook\\\\familiars\\\\inspector_gadget\\\\inspections.py:107:8: W0612: Unused variable 'dictset' (unused-variable)\",\n",
       " 'spellbook\\\\familiars\\\\inspector_gadget\\\\inspections.py:128:4: C0111: Missing method docstring (missing-docstring)',\n",
       " \"spellbook\\\\familiars\\\\inspector_gadget\\\\inspections.py:136:8: W0612: Unused variable 'longest' (unused-variable)\",\n",
       " 'spellbook\\\\familiars\\\\inspector_gadget\\\\inspections.py:143:4: C0111: Missing method docstring (missing-docstring)',\n",
       " 'spellbook\\\\familiars\\\\inspector_gadget\\\\inspections.py:148:0: C0111: Missing function docstring (missing-docstring)',\n",
       " \"spellbook\\\\familiars\\\\inspector_gadget\\\\inspections.py:150:17: E1120: No value for argument 'report_data' in method call (no-value-for-parameter)\",\n",
       " 'spellbook\\\\familiars\\\\inspector_gadget\\\\inspections.py:10:0: W0611: Unused SimpleNamespace imported from types (unused-import)',\n",
       " '************* Module inspector_gadget.test_gadget',\n",
       " 'spellbook\\\\familiars\\\\inspector_gadget\\\\test_gadget.py:57:0: C0301: Line too long (107/100) (line-too-long)',\n",
       " 'spellbook\\\\familiars\\\\inspector_gadget\\\\test_gadget.py:1:0: C0111: Missing module docstring (missing-docstring)',\n",
       " \"spellbook\\\\familiars\\\\inspector_gadget\\\\test_gadget.py:2:0: E0401: Unable to import 'test_snippets' (import-error)\",\n",
       " 'spellbook\\\\familiars\\\\inspector_gadget\\\\test_gadget.py:6:0: C0103: Class name \"TestInspectorGadget_param_None\" doesn\\'t conform to PascalCase naming style (invalid-name)',\n",
       " 'spellbook\\\\familiars\\\\inspector_gadget\\\\test_gadget.py:6:0: C0112: Empty class docstring (empty-docstring)',\n",
       " 'spellbook\\\\familiars\\\\inspector_gadget\\\\test_gadget.py:10:4: C0103: Method name \"test_init_param_None\" doesn\\'t conform to snake_case naming style (invalid-name)',\n",
       " 'spellbook\\\\familiars\\\\inspector_gadget\\\\test_gadget.py:10:4: C0112: Empty method docstring (empty-docstring)',\n",
       " 'spellbook\\\\familiars\\\\inspector_gadget\\\\test_gadget.py:17:15: W0703: Catching too general exception Exception (broad-except)',\n",
       " 'spellbook\\\\familiars\\\\inspector_gadget\\\\test_gadget.py:17:8: C0103: Variable name \"e\" doesn\\'t conform to snake_case naming style (invalid-name)',\n",
       " \"spellbook\\\\familiars\\\\inspector_gadget\\\\test_gadget.py:25:29: E1101: Instance of 'InspectorGadget' has no 'myleafname' member (no-member)\",\n",
       " 'spellbook\\\\familiars\\\\inspector_gadget\\\\test_gadget.py:10:4: R1711: Useless return at end of function or method (useless-return)',\n",
       " 'spellbook\\\\familiars\\\\inspector_gadget\\\\test_gadget.py:30:0: C0103: Class name \"TestInspectorGadget_param_InspectorGadget_class\" doesn\\'t conform to PascalCase naming style (invalid-name)',\n",
       " 'spellbook\\\\familiars\\\\inspector_gadget\\\\test_gadget.py:30:0: C0111: Missing class docstring (missing-docstring)',\n",
       " 'spellbook\\\\familiars\\\\inspector_gadget\\\\test_gadget.py:31:4: C0103: Method name \"test_init_param_InspectorGadget_class\" doesn\\'t conform to snake_case naming style (invalid-name)',\n",
       " 'spellbook\\\\familiars\\\\inspector_gadget\\\\test_gadget.py:31:4: C0112: Empty method docstring (empty-docstring)',\n",
       " 'spellbook\\\\familiars\\\\inspector_gadget\\\\test_gadget.py:38:15: W0703: Catching too general exception Exception (broad-except)',\n",
       " 'spellbook\\\\familiars\\\\inspector_gadget\\\\test_gadget.py:38:8: C0103: Variable name \"e\" doesn\\'t conform to snake_case naming style (invalid-name)',\n",
       " \"spellbook\\\\familiars\\\\inspector_gadget\\\\test_gadget.py:44:29: E1101: Instance of 'InspectorGadget' has no 'myleafname' member (no-member)\",\n",
       " 'spellbook\\\\familiars\\\\inspector_gadget\\\\test_gadget.py:31:4: R1711: Useless return at end of function or method (useless-return)',\n",
       " 'spellbook\\\\familiars\\\\inspector_gadget\\\\test_gadget.py:55:0: C0103: Class name \"TestInspectorGadget_param_InspectorGadget_instance_fromnull\" doesn\\'t conform to PascalCase naming style (invalid-name)',\n",
       " 'spellbook\\\\familiars\\\\inspector_gadget\\\\test_gadget.py:55:0: C0111: Missing class docstring (missing-docstring)',\n",
       " 'spellbook\\\\familiars\\\\inspector_gadget\\\\test_gadget.py:56:4: C0103: Method name \"test_init_param_InspectorGadget_instance_fromnull\" doesn\\'t conform to snake_case naming style (invalid-name)',\n",
       " 'spellbook\\\\familiars\\\\inspector_gadget\\\\test_gadget.py:56:4: C0112: Empty method docstring (empty-docstring)',\n",
       " 'spellbook\\\\familiars\\\\inspector_gadget\\\\test_gadget.py:64:15: W0703: Catching too general exception Exception (broad-except)',\n",
       " 'spellbook\\\\familiars\\\\inspector_gadget\\\\test_gadget.py:64:8: C0103: Variable name \"e\" doesn\\'t conform to snake_case naming style (invalid-name)',\n",
       " \"spellbook\\\\familiars\\\\inspector_gadget\\\\test_gadget.py:72:29: E1101: Instance of 'InspectorGadget' has no 'myleafname' member (no-member)\",\n",
       " 'spellbook\\\\familiars\\\\inspector_gadget\\\\test_gadget.py:56:4: R1711: Useless return at end of function or method (useless-return)',\n",
       " 'spellbook\\\\familiars\\\\inspector_gadget\\\\test_gadget.py:2:0: W0611: Unused systems_go imported from test_snippets (unused-import)',\n",
       " 'spellbook\\\\familiars\\\\inspector_gadget\\\\test_gadget.py:1:0: R0801: Similar lines in 2 files',\n",
       " '==inspector_gadget.gadget:85',\n",
       " '==inspector_gadget.inspections:96',\n",
       " 'return list(self.type.__mro__)',\n",
       " 'def assemble_report_data(self, entity: Any) -> OrderedDict:',\n",
       " '_dir = dir(entity)',\n",
       " '_dict = entity.__dict__',\n",
       " 'obj_size = sys.getsizeof(entity)',\n",
       " 'content_size = sum([sys.getsizeof(attr) for attr in _dict.values()])',\n",
       " 'dirset = set(_dir)',\n",
       " 'dictset = set(_dict.keys())',\n",
       " 'report_data = OrderedDict([',\n",
       " \"('repr', repr(entity)\",\n",
       " '),',\n",
       " \"('type', type(entity)\",\n",
       " '),',\n",
       " \"('obj_size', obj_size\",\n",
       " '),',\n",
       " \"('content_size', content_size\",\n",
       " '),',\n",
       " \"('method resolution order', [self.fullname(item) for item in type(entity).__mro__]\",\n",
       " '),',\n",
       " \"('id (memory address)', id(entity)\",\n",
       " '),',\n",
       " \"('namespace_volume', len(_dir)\",\n",
       " '),',\n",
       " '])',\n",
       " 'return report_data',\n",
       " 'def format_report(self, report_data: Optional[OrderedDict]) -> str:',\n",
       " 'if report_data is None:',\n",
       " 'report_data = self.assemble_report_data(self.objective)',\n",
       " 'line = \"\\\\n \" + (\"=\" * 70)',\n",
       " \"datarepr = report_data['repr']\",\n",
       " 'report_string = line + \"\\\\n\"',\n",
       " \"addition = f'Inspection report on {datarepr} {line}'\",\n",
       " 'report_string += addition',\n",
       " 'longest = max([len(key) for key in report_data.keys()])',\n",
       " 'for measurement, value in report_data.items():',\n",
       " 'report_string += \"\\\\n| \"',\n",
       " 'report_string += f\"{measurement}: {value}\"',\n",
       " 'report_string += line',\n",
       " 'return report_string',\n",
       " 'def report(self) -> None:',\n",
       " 'report_data = self.assemble_report_data(self.objective)',\n",
       " 'print(self.format_report(report_data))',\n",
       " 'def report(objective: Any) -> str:',\n",
       " 'gadget = InspectorGadget(objective)',\n",
       " 'report_str = gadget.format_report()',\n",
       " 'return report_str',\n",
       " '# def probe(object_: Any, cprinter: ConditionalPrinter) -> pd.DataFrame:',\n",
       " \"#     '''USAGE: probe(object: Any) -> pd.DataFrame:\",\n",
       " '#     object_: any python object',\n",
       " '#     return: pandas DataFrame w/ entries derived from elements of dir(object_);',\n",
       " '#             colums: [name, type, size, id[, etc.]]',\n",
       " \"#     '''\",\n",
       " '#     cprinter(f\"repr: {repr(object_)}\" + \"\\\\n\" +',\n",
       " '#           f\"id: {id(object_)}\" + \"\\\\n\" +',\n",
       " '#           f\"type: {type(object_)}\" + \"\\\\n\" +',\n",
       " '#           f\"size (bytes): {sys.getsizeof(object_)}\"',\n",
       " '#     )',\n",
       " '#     names = []',\n",
       " '#     types = []',\n",
       " '#     reprs = []',\n",
       " '#     sizes = []',\n",
       " '#     mem_ids = []',\n",
       " '#     presumed_roles = []',\n",
       " '#     for name in sorted(object_.__dict__.keys()):',\n",
       " '#         attribute = object_.__dict__[name]',\n",
       " '#         names.append(name)',\n",
       " '#         types.append(type(attribute))',\n",
       " '#         reprs.append(repr(attribute))',\n",
       " '#         sizes.append(sys.getsizeof(attribute))',\n",
       " '#         mem_ids.append(id(attribute))',\n",
       " \"#         # roles: {'private', 'public', 'inner_class', 'special_method', '?'}\",\n",
       " \"#         if name[:2] == '__' and name[-2:] == '__':\",\n",
       " \"#             role = 'special_method'\",\n",
       " \"#         elif name[0] == '_':\",\n",
       " \"#             role = 'private'\",\n",
       " '#         elif name[0].isupper():',\n",
       " \"#             role = 'inner_class'\",\n",
       " '#         elif name[0].islower():',\n",
       " \"#             role = 'public'\",\n",
       " '#         else:',\n",
       " \"#             role = '?'\",\n",
       " '#         presumed_roles.append(role)',\n",
       " '#     multiple_refs = []',\n",
       " '#     for identity in mem_ids:',\n",
       " '#         if mem_ids.count(identity) > 1:',\n",
       " '#             multiple_refs.append(True)',\n",
       " '#         else:',\n",
       " '#             multiple_refs.append(False)',\n",
       " '#     df = pd.DataFrame(',\n",
       " '#         data = OrderedDict([',\n",
       " \"#             ('identifier', names),\",\n",
       " \"#             ('repr', reprs),\",\n",
       " \"#             ('type', types),\",\n",
       " \"#             ('size (bytes)', sizes),\",\n",
       " \"#             ('role', presumed_roles),\",\n",
       " \"#             ('memory_id', mem_ids),\",\n",
       " \"#             ('sharing_id', multiple_refs),\",\n",
       " '#         ])',\n",
       " '#     )',\n",
       " '#     return df',\n",
       " '# def get_name_set(dataframe: pd.DataFrame) -> Set[str]:',\n",
       " \"#     names = set(dataframe['identifier'])\",\n",
       " '#     return names',\n",
       " '# def interrogate_base(object_: Any,',\n",
       " '#                      cprinter: ConditionalPrinter) -> List[pd.DataFrame]:',\n",
       " '#     if type(object_) != type:',\n",
       " '#         obj_type = type(object_)',\n",
       " \"#     elif 'mro' in dir(object_):\",\n",
       " '#         mro_ = object_.mro()',\n",
       " '#     else:',\n",
       " '#         obj_type = object_',\n",
       " '#     outer_mro = obj_type.mro()',\n",
       " '#     if :',\n",
       " '#         mro_ = object_.mro()',\n",
       " '#         cprinter(\"=========================================================\")',\n",
       " '#         cprinter(f\">>> Interrogating {mro_[-1]}:\")',\n",
       " '#         cprinter(\"Method resolution order:\")',\n",
       " '#         for i, entry in enumerate(mro_):',\n",
       " '#             cprinter(f\" {i} : {entry}\")',\n",
       " '#         established_names = set()',\n",
       " '#         overwrites = []',\n",
       " '#         outputs = []',\n",
       " '#         i = 0',\n",
       " '#         while mro_:',\n",
       " '#             layer = mro_.pop()',\n",
       " '#             cprinter(\"\\\\n\" + f\"[{i}]____________________________________________________\")',\n",
       " '#             cprinter(f\"> Probing {repr(layer)} layer:\")',\n",
       " '#             new_df = probe(layer)',\n",
       " '#             present_names = get_name_set(new_df)',\n",
       " '#             overwrites.append(present_names & established_names)',\n",
       " '#             established_names |= present_names',\n",
       " \"#             morsel = ''\",\n",
       " '#             if not overwrites[-1]:',\n",
       " '#                 morsel = None',\n",
       " '#             cprinter(f\"Overriding: {morsel}\")',\n",
       " '#             for entry in overwrites[-1]:',\n",
       " '#                 cprinter(f\"  {entry}\")',\n",
       " '#             outputs.append(new_df)',\n",
       " '#             i += 1',\n",
       " '#         cprinter(\"=========================================================\")',\n",
       " '#     else:',\n",
       " '#         cprinter(\"=========================================================\")',\n",
       " '#         cprinter(f\">>> Probing object: {repr(object_)}\")',\n",
       " '#         new_df = probe(object_, cprinter)',\n",
       " '#         cprinter(\"=========================================================\")',\n",
       " '#         outputs = [new_df]',\n",
       " '#     return outputs',\n",
       " '# def framed(object_: Any) -> List[pd.DataFrame]:',\n",
       " '#     df_list = interrogate_base(',\n",
       " '#         object_,',\n",
       " '#         ConditionalPrinter(external_verbose=False, internal_verbose=False))',\n",
       " '#     return df_list',\n",
       " '# def examine(object_: Any) -> None:',\n",
       " '#     cprinter = ConditionalPrinter(external_verbose=True, internal_verbose=False)',\n",
       " '#     cprinter.unmute()',\n",
       " '#     discard = interrogate_base(',\n",
       " '#         object_,',\n",
       " '#         cprinter)',\n",
       " '#     return None (duplicate-code)',\n",
       " 'spellbook\\\\familiars\\\\inspector_gadget\\\\test_gadget.py:1:0: R0801: Similar lines in 2 files',\n",
       " '==inspector_gadget.gadget:0',\n",
       " '==inspector_gadget.inspections:0',\n",
       " 'import sys',\n",
       " '# import unittest',\n",
       " '# import inspect',\n",
       " '# import glob',\n",
       " 'import inspect',\n",
       " '# from pprint import pprint',\n",
       " 'from typing import Any, List, Optional, Tuple, Dict',\n",
       " 'from types import SimpleNamespace',\n",
       " 'from collections import OrderedDict',\n",
       " 'typedefs = {',\n",
       " \"'typing.py': (Any, List, Optional, Tuple, Dict),\",\n",
       " '}',\n",
       " 'def typemro(object):',\n",
       " 'return inspect.getmro(type(object))',\n",
       " 'common_attrs = dir(object)',\n",
       " 'all_attrs = {',\n",
       " '\"__new__\",',\n",
       " '\"__init__\",',\n",
       " '\"__del__\",',\n",
       " '\"__repr__\",',\n",
       " '\"__str__\",',\n",
       " '\"__format__\",  # https://docs.python.org/3.1/library/string.html#formatspec',\n",
       " '\"__hash__\",',\n",
       " '\"__bool__\",',\n",
       " '\"__bytes__\",',\n",
       " '\"__annotations__\",',\n",
       " '\"__iter__\",',\n",
       " '\"__next__\",',\n",
       " '\"__reversed__\",',\n",
       " '\"__setattr__\",',\n",
       " '\"__getattr__\",',\n",
       " '\"__getattribute__\",',\n",
       " '\"__delattr__\",',\n",
       " '\"__dir__\",',\n",
       " '\"__get__\",',\n",
       " '\"__set__\",',\n",
       " '\"__delete__\",',\n",
       " '\"__slots__\",  # https://docs.python.org/3.1/reference/datamodel.html#slots',\n",
       " '\"__instancecheck__\",',\n",
       " '\"__subclasscheck__\",',\n",
       " '\"__call__\",',\n",
       " '\"__getitem__\",  # (self, key)',\n",
       " '\"__class__\",',\n",
       " '\"__setitem__\",  # (self, key, value)',\n",
       " '\"__mro__\",',\n",
       " '\"__dict__\",',\n",
       " '# TESTS / COMPARATIVES',\n",
       " '\"__contains__\",  # (self, item)',\n",
       " '}',\n",
       " '# \"____\",',\n",
       " '# \"____\", (duplicate-code)',\n",
       " 'spellbook\\\\familiars\\\\inspector_gadget\\\\test_gadget.py:1:0: R0801: Similar lines in 2 files',\n",
       " '==inspector_gadget.gadget:66',\n",
       " '==inspector_gadget.inspections:77',\n",
       " 'return type(self.objective)',\n",
       " '# def leafname(self, entity: Any) -> str:',\n",
       " '# def fullname(self, entity: Any) -> str:',\n",
       " '@property',\n",
       " 'def leafname(self) -> str:',\n",
       " 'leaf_name = self.fullname.split(\".\")[-1]',\n",
       " 'return leaf_name',\n",
       " '@property',\n",
       " 'def fullname(self) -> str:',\n",
       " 'type_string',\n",
       " 'full_name = str(type(self.objective)).split(\"\\'\")[1]',\n",
       " 'return full_name',\n",
       " '@property (duplicate-code)',\n",
       " '-----------------------------------',\n",
       " 'Your code has been rated at 2.01/10')"
      ]
     },
     "execution_count": 57,
     "metadata": {},
     "output_type": "execute_result"
    }
   ],
   "source": [
    "lines"
   ]
  },
  {
   "cell_type": "code",
   "execution_count": 56,
   "metadata": {},
   "outputs": [],
   "source": [
    "lines = raw_text_to_lines(text)"
   ]
  },
  {
   "cell_type": "code",
   "execution_count": 53,
   "metadata": {},
   "outputs": [
    {
     "data": {
      "text/plain": [
       "('************* Module inspector_gadget.inspections',\n",
       " ('spellbook\\\\familiars\\\\inspector_gadget\\\\inspections.py:1:0: C0111: Missing module docstring (missing-docstring)',\n",
       "  'spellbook\\\\familiars\\\\inspector_gadget\\\\inspections.py:13:0: C0103: Constant name \"typedefs\" doesn\\'t conform to UPPER_CASE naming style (invalid-name)',\n",
       "  'spellbook\\\\familiars\\\\inspector_gadget\\\\inspections.py:19:0: C0111: Missing function docstring (missing-docstring)',\n",
       "  \"spellbook\\\\familiars\\\\inspector_gadget\\\\inspections.py:19:12: W0622: Redefining built-in 'object' (redefined-builtin)\",\n",
       "  'spellbook\\\\familiars\\\\inspector_gadget\\\\inspections.py:23:0: C0103: Constant name \"common_attrs\" doesn\\'t conform to UPPER_CASE naming style (invalid-name)',\n",
       "  'spellbook\\\\familiars\\\\inspector_gadget\\\\inspections.py:25:0: C0103: Constant name \"all_attrs\" doesn\\'t conform to UPPER_CASE naming style (invalid-name)',\n",
       "  'spellbook\\\\familiars\\\\inspector_gadget\\\\inspections.py:72:0: C0111: Missing class docstring (missing-docstring)',\n",
       "  'spellbook\\\\familiars\\\\inspector_gadget\\\\inspections.py:77:4: C0111: Missing method docstring (missing-docstring)',\n",
       "  \"spellbook\\\\familiars\\\\inspector_gadget\\\\inspections.py:77:22: E0602: Undefined variable 'Type' (undefined-variable)\",\n",
       "  'spellbook\\\\familiars\\\\inspector_gadget\\\\inspections.py:85:4: C0111: Missing method docstring (missing-docstring)',\n",
       "  'spellbook\\\\familiars\\\\inspector_gadget\\\\inspections.py:90:4: C0111: Missing method docstring (missing-docstring)',\n",
       "  'spellbook\\\\familiars\\\\inspector_gadget\\\\inspections.py:91:8: W0104: Statement seems to have no effect (pointless-statement)',\n",
       "  \"spellbook\\\\familiars\\\\inspector_gadget\\\\inspections.py:91:8: E0602: Undefined variable 'type_string' (undefined-variable)\",\n",
       "  'spellbook\\\\familiars\\\\inspector_gadget\\\\inspections.py:96:4: C0111: Missing method docstring (missing-docstring)',\n",
       "  \"spellbook\\\\familiars\\\\inspector_gadget\\\\inspections.py:96:26: E0602: Undefined variable 'Type' (undefined-variable)\",\n",
       "  'spellbook\\\\familiars\\\\inspector_gadget\\\\inspections.py:99:4: C0111: Missing method docstring (missing-docstring)',\n",
       "  'spellbook\\\\familiars\\\\inspector_gadget\\\\inspections.py:118:41: E1102: self.fullname is not callable (not-callable)',\n",
       "  \"spellbook\\\\familiars\\\\inspector_gadget\\\\inspections.py:106:8: W0612: Unused variable 'dirset' (unused-variable)\",\n",
       "  \"spellbook\\\\familiars\\\\inspector_gadget\\\\inspections.py:107:8: W0612: Unused variable 'dictset' (unused-variable)\",\n",
       "  'spellbook\\\\familiars\\\\inspector_gadget\\\\inspections.py:128:4: C0111: Missing method docstring (missing-docstring)',\n",
       "  \"spellbook\\\\familiars\\\\inspector_gadget\\\\inspections.py:136:8: W0612: Unused variable 'longest' (unused-variable)\",\n",
       "  'spellbook\\\\familiars\\\\inspector_gadget\\\\inspections.py:143:4: C0111: Missing method docstring (missing-docstring)',\n",
       "  'spellbook\\\\familiars\\\\inspector_gadget\\\\inspections.py:148:0: C0111: Missing function docstring (missing-docstring)',\n",
       "  \"spellbook\\\\familiars\\\\inspector_gadget\\\\inspections.py:150:17: E1120: No value for argument 'report_data' in method call (no-value-for-parameter)\",\n",
       "  'spellbook\\\\familiars\\\\inspector_gadget\\\\inspections.py:10:0: W0611: Unused SimpleNamespace imported from types (unused-import)'),\n",
       " 'Your code has been rated at 1.67/10')"
      ]
     },
     "execution_count": 53,
     "metadata": {},
     "output_type": "execute_result"
    }
   ],
   "source": [
    "partition_lines(lines)"
   ]
  },
  {
   "cell_type": "code",
   "execution_count": 56,
   "metadata": {},
   "outputs": [],
   "source": [
    "score_string = extract_score_string(lines)"
   ]
  },
  {
   "cell_type": "code",
   "execution_count": 48,
   "metadata": {},
   "outputs": [
    {
     "data": {
      "text/plain": [
       "7"
      ]
     },
     "execution_count": 48,
     "metadata": {},
     "output_type": "execute_result"
    }
   ],
   "source": [
    "len(score_string.split())"
   ]
  },
  {
   "cell_type": "code",
   "execution_count": 46,
   "metadata": {},
   "outputs": [
    {
     "ename": "IndexError",
     "evalue": "list index out of range",
     "output_type": "error",
     "traceback": [
      "\u001b[1;31m---------------------------------------------------------------------------\u001b[0m",
      "\u001b[1;31mIndexError\u001b[0m                                Traceback (most recent call last)",
      "\u001b[1;32m<ipython-input-46-23545a0ade8b>\u001b[0m in \u001b[0;36m<module>\u001b[1;34m()\u001b[0m\n\u001b[1;32m----> 1\u001b[1;33m \u001b[0mmetric_strings\u001b[0m \u001b[1;33m=\u001b[0m \u001b[0mmetrics_from_score_string\u001b[0m\u001b[1;33m(\u001b[0m\u001b[0mscore_string\u001b[0m\u001b[1;33m)\u001b[0m\u001b[1;33m\u001b[0m\u001b[0m\n\u001b[0m",
      "\u001b[1;32m<ipython-input-31-57b02028e4df>\u001b[0m in \u001b[0;36mmetrics_from_score_string\u001b[1;34m(score_string)\u001b[0m\n\u001b[0;32m      2\u001b[0m     \u001b[0mwords\u001b[0m \u001b[1;33m=\u001b[0m \u001b[0mscore_string\u001b[0m\u001b[1;33m.\u001b[0m\u001b[0msplit\u001b[0m\u001b[1;33m(\u001b[0m\u001b[1;33m)\u001b[0m\u001b[1;33m\u001b[0m\u001b[0m\n\u001b[0;32m      3\u001b[0m     \u001b[0mcurrent\u001b[0m \u001b[1;33m=\u001b[0m \u001b[0mwords\u001b[0m\u001b[1;33m[\u001b[0m\u001b[1;36m6\u001b[0m\u001b[1;33m]\u001b[0m\u001b[1;33m\u001b[0m\u001b[0m\n\u001b[1;32m----> 4\u001b[1;33m     \u001b[0mprevious\u001b[0m \u001b[1;33m=\u001b[0m \u001b[0mwords\u001b[0m\u001b[1;33m[\u001b[0m\u001b[1;36m9\u001b[0m\u001b[1;33m]\u001b[0m\u001b[1;33m[\u001b[0m\u001b[1;33m:\u001b[0m\u001b[1;33m-\u001b[0m\u001b[1;36m1\u001b[0m\u001b[1;33m]\u001b[0m\u001b[1;33m\u001b[0m\u001b[0m\n\u001b[0m\u001b[0;32m      5\u001b[0m     \u001b[0mdelta\u001b[0m \u001b[1;33m=\u001b[0m \u001b[0mwords\u001b[0m\u001b[1;33m[\u001b[0m\u001b[1;36m10\u001b[0m\u001b[1;33m]\u001b[0m\u001b[1;33m[\u001b[0m\u001b[1;33m:\u001b[0m\u001b[1;33m-\u001b[0m\u001b[1;36m1\u001b[0m\u001b[1;33m]\u001b[0m\u001b[1;33m\u001b[0m\u001b[0m\n\u001b[0;32m      6\u001b[0m     \u001b[1;32mreturn\u001b[0m \u001b[0mcurrent\u001b[0m\u001b[1;33m,\u001b[0m \u001b[0mprevious\u001b[0m\u001b[1;33m,\u001b[0m \u001b[0mdelta\u001b[0m\u001b[1;33m\u001b[0m\u001b[0m\n",
      "\u001b[1;31mIndexError\u001b[0m: list index out of range"
     ]
    }
   ],
   "source": [
    "metric_strings = metrics_from_score_string(score_string)"
   ]
  },
  {
   "cell_type": "code",
   "execution_count": 45,
   "metadata": {},
   "outputs": [
    {
     "data": {
      "text/plain": [
       "('Your code has been rated at 1.67/10', ('8.41/10', '8.41/10', '+0.00'))"
      ]
     },
     "execution_count": 45,
     "metadata": {},
     "output_type": "execute_result"
    }
   ],
   "source": [
    "score_string, metric_strings"
   ]
  },
  {
   "cell_type": "code",
   "execution_count": 38,
   "metadata": {},
   "outputs": [
    {
     "data": {
      "text/plain": [
       "('************* Module inspector_gadget.inspections',\n",
       " 'spellbook\\\\familiars\\\\inspector_gadget\\\\inspections.py:1:0: C0111: Missing module docstring (missing-docstring)',\n",
       " 'spellbook\\\\familiars\\\\inspector_gadget\\\\inspections.py:13:0: C0103: Constant name \"typedefs\" doesn\\'t conform to UPPER_CASE naming style (invalid-name)',\n",
       " 'spellbook\\\\familiars\\\\inspector_gadget\\\\inspections.py:19:0: C0111: Missing function docstring (missing-docstring)',\n",
       " \"spellbook\\\\familiars\\\\inspector_gadget\\\\inspections.py:19:12: W0622: Redefining built-in 'object' (redefined-builtin)\",\n",
       " 'spellbook\\\\familiars\\\\inspector_gadget\\\\inspections.py:23:0: C0103: Constant name \"common_attrs\" doesn\\'t conform to UPPER_CASE naming style (invalid-name)',\n",
       " 'spellbook\\\\familiars\\\\inspector_gadget\\\\inspections.py:25:0: C0103: Constant name \"all_attrs\" doesn\\'t conform to UPPER_CASE naming style (invalid-name)',\n",
       " 'spellbook\\\\familiars\\\\inspector_gadget\\\\inspections.py:72:0: C0111: Missing class docstring (missing-docstring)',\n",
       " 'spellbook\\\\familiars\\\\inspector_gadget\\\\inspections.py:77:4: C0111: Missing method docstring (missing-docstring)',\n",
       " \"spellbook\\\\familiars\\\\inspector_gadget\\\\inspections.py:77:22: E0602: Undefined variable 'Type' (undefined-variable)\",\n",
       " 'spellbook\\\\familiars\\\\inspector_gadget\\\\inspections.py:85:4: C0111: Missing method docstring (missing-docstring)',\n",
       " 'spellbook\\\\familiars\\\\inspector_gadget\\\\inspections.py:90:4: C0111: Missing method docstring (missing-docstring)',\n",
       " 'spellbook\\\\familiars\\\\inspector_gadget\\\\inspections.py:91:8: W0104: Statement seems to have no effect (pointless-statement)',\n",
       " \"spellbook\\\\familiars\\\\inspector_gadget\\\\inspections.py:91:8: E0602: Undefined variable 'type_string' (undefined-variable)\",\n",
       " 'spellbook\\\\familiars\\\\inspector_gadget\\\\inspections.py:96:4: C0111: Missing method docstring (missing-docstring)',\n",
       " \"spellbook\\\\familiars\\\\inspector_gadget\\\\inspections.py:96:26: E0602: Undefined variable 'Type' (undefined-variable)\",\n",
       " 'spellbook\\\\familiars\\\\inspector_gadget\\\\inspections.py:99:4: C0111: Missing method docstring (missing-docstring)',\n",
       " 'spellbook\\\\familiars\\\\inspector_gadget\\\\inspections.py:118:41: E1102: self.fullname is not callable (not-callable)',\n",
       " \"spellbook\\\\familiars\\\\inspector_gadget\\\\inspections.py:106:8: W0612: Unused variable 'dirset' (unused-variable)\",\n",
       " \"spellbook\\\\familiars\\\\inspector_gadget\\\\inspections.py:107:8: W0612: Unused variable 'dictset' (unused-variable)\",\n",
       " 'spellbook\\\\familiars\\\\inspector_gadget\\\\inspections.py:128:4: C0111: Missing method docstring (missing-docstring)',\n",
       " \"spellbook\\\\familiars\\\\inspector_gadget\\\\inspections.py:136:8: W0612: Unused variable 'longest' (unused-variable)\",\n",
       " 'spellbook\\\\familiars\\\\inspector_gadget\\\\inspections.py:143:4: C0111: Missing method docstring (missing-docstring)',\n",
       " 'spellbook\\\\familiars\\\\inspector_gadget\\\\inspections.py:148:0: C0111: Missing function docstring (missing-docstring)',\n",
       " \"spellbook\\\\familiars\\\\inspector_gadget\\\\inspections.py:150:17: E1120: No value for argument 'report_data' in method call (no-value-for-parameter)\",\n",
       " 'spellbook\\\\familiars\\\\inspector_gadget\\\\inspections.py:10:0: W0611: Unused SimpleNamespace imported from types (unused-import)',\n",
       " '-----------------------------------',\n",
       " 'Your code has been rated at 1.67/10')"
      ]
     },
     "execution_count": 38,
     "metadata": {},
     "output_type": "execute_result"
    }
   ],
   "source": [
    "lines"
   ]
  },
  {
   "cell_type": "code",
   "execution_count": 42,
   "metadata": {},
   "outputs": [
    {
     "ename": "TypeError",
     "evalue": "'str' object is not callable",
     "output_type": "error",
     "traceback": [
      "\u001b[1;31m---------------------------------------------------------------------------\u001b[0m",
      "\u001b[1;31mTypeError\u001b[0m                                 Traceback (most recent call last)",
      "\u001b[1;32m<ipython-input-42-263476bf4547>\u001b[0m in \u001b[0;36m<module>\u001b[1;34m()\u001b[0m\n\u001b[1;32m----> 1\u001b[1;33m \u001b[0mscore_string\u001b[0m\u001b[1;33m(\u001b[0m\u001b[0mlines\u001b[0m\u001b[1;33m)\u001b[0m\u001b[1;33m\u001b[0m\u001b[0m\n\u001b[0m",
      "\u001b[1;31mTypeError\u001b[0m: 'str' object is not callable"
     ]
    }
   ],
   "source": [
    "score_string(lines)"
   ]
  },
  {
   "cell_type": "code",
   "execution_count": 41,
   "metadata": {},
   "outputs": [
    {
     "name": "stdout",
     "output_type": "stream",
     "text": [
      "['spellbook\\\\familiars\\\\inspector_gadget\\\\inspections.py', '1', '0', 'C0111', 'Missing module docstring (missing-docstring)']\n"
     ]
    },
    {
     "data": {
      "text/plain": [
       "[]"
      ]
     },
     "execution_count": 41,
     "metadata": {},
     "output_type": "execute_result"
    }
   ],
   "source": [
    "body_to_row_tuples(lines)"
   ]
  },
  {
   "cell_type": "code",
   "execution_count": 64,
   "metadata": {},
   "outputs": [],
   "source": [
    "def full_pipe(target_path):\n",
    "    text = lint_load_cleanup(target_path)\n",
    "    lines = raw_text_to_lines(text)\n",
    "    score_string = extract_score_string(lines)\n",
    "    current, previous, delta = metrics_from_score_string(score_string)\n",
    "    return lines"
   ]
  },
  {
   "cell_type": "code",
   "execution_count": 65,
   "metadata": {},
   "outputs": [
    {
     "name": "stdout",
     "output_type": "stream",
     "text": [
      "Your code has been rated at 8.41/10 (previous run: 8.41/10, +0.00)\n"
     ]
    },
    {
     "data": {
      "text/plain": [
       "('************* Module core.parsing.flake8_parse',\n",
       " 'core\\\\parsing\\\\flake8_parse.py:1:0: C0111: Missing module docstring (missing-docstring)',\n",
       " 'core\\\\parsing\\\\flake8_parse.py:9:4: R1705: Unnecessary \"else\" after \"return\" (no-else-return)',\n",
       " 'core\\\\parsing\\\\flake8_parse.py:25:4: R1705: Unnecessary \"else\" after \"return\" (no-else-return)',\n",
       " 'core\\\\parsing\\\\flake8_parse.py:62:0: C0111: Missing function docstring (missing-docstring)',\n",
       " 'core\\\\parsing\\\\flake8_parse.py:68:4: R1705: Unnecessary \"else\" after \"return\" (no-else-return)',\n",
       " 'core\\\\parsing\\\\flake8_parse.py:3:0: C0411: standard import \"from typing import List, Optional\" should be placed before \"import pandas as pd\" (wrong-import-order)',\n",
       " 'core\\\\parsing\\\\flake8_parse.py:4:0: C0411: standard import \"from collections import OrderedDict\" should be placed before \"import pandas as pd\" (wrong-import-order)',\n",
       " '------------------------------------------------------------------',\n",
       " 'Your code has been rated at 8.41/10 (previous run: 8.41/10, +0.00)')"
      ]
     },
     "execution_count": 65,
     "metadata": {},
     "output_type": "execute_result"
    }
   ],
   "source": [
    "full_pipe(test_target)"
   ]
  },
  {
   "cell_type": "code",
   "execution_count": 53,
   "metadata": {},
   "outputs": [
    {
     "data": {
      "text/plain": [
       "'************* Module core.parsing.flake8_parse\\ncore\\\\parsing\\\\flake8_parse.py:1:0: C0111: Missing module docstring (missing-docstring)\\ncore\\\\parsing\\\\flake8_parse.py:9:4: R1705: Unnecessary \"else\" after \"return\" (no-else-return)\\ncore\\\\parsing\\\\flake8_parse.py:25:4: R1705: Unnecessary \"else\" after \"return\" (no-else-return)\\ncore\\\\parsing\\\\flake8_parse.py:62:0: C0111: Missing function docstring (missing-docstring)\\ncore\\\\parsing\\\\flake8_parse.py:68:4: R1705: Unnecessary \"else\" after \"return\" (no-else-return)\\ncore\\\\parsing\\\\flake8_parse.py:3:0: C0411: standard import \"from typing import List, Optional\" should be placed before \"import pandas as pd\" (wrong-import-order)\\ncore\\\\parsing\\\\flake8_parse.py:4:0: C0411: standard import \"from collections import OrderedDict\" should be placed before \"import pandas as pd\" (wrong-import-order)\\n\\n-----------------------------------\\n\\nYour code has been rated at 8.41/10\\n\\n\\n\\n'"
      ]
     },
     "execution_count": 53,
     "metadata": {},
     "output_type": "execute_result"
    }
   ],
   "source": [
    "lint_load_cleanup(test_target)"
   ]
  },
  {
   "cell_type": "code",
   "execution_count": 21,
   "metadata": {},
   "outputs": [
    {
     "name": "stdout",
     "output_type": "stream",
     "text": [
      "************* Module core.parsing.pylint_parse\n",
      "core\\parsing\\pylint_parse.py:1:0: C0111: Missing module docstring (missing-docstring)\n",
      "core\\parsing\\pylint_parse.py:27:15: C1801: Do not use `len(SEQUENCE)` to determine if a sequence is empty (len-as-condition)\n",
      "core\\parsing\\pylint_parse.py:30:15: C1801: Do not use `len(SEQUENCE)` to determine if a sequence is empty (len-as-condition)\n",
      "core\\parsing\\pylint_parse.py:126:0: C0111: Missing function docstring (missing-docstring)\n",
      "core\\parsing\\pylint_parse.py:2:0: C0411: standard import \"from typing import List, Tuple\" should be placed before \"from IPython.utils.capture import CapturedIO\" (wrong-import-order)\n",
      "core\\parsing\\pylint_parse.py:3:0: C0411: standard import \"from collections import OrderedDict\" should be placed before \"from IPython.utils.capture import CapturedIO\" (wrong-import-order)\n",
      "\n",
      "-----------------------------------\n",
      "Your code has been rated at 9.26/10\n",
      "\n"
     ]
    }
   ],
   "source": [
    "%%bash\n",
    "cat 'temp_pylint_output.txt'"
   ]
  },
  {
   "cell_type": "code",
   "execution_count": 34,
   "metadata": {},
   "outputs": [],
   "source": []
  },
  {
   "cell_type": "code",
   "execution_count": 37,
   "metadata": {},
   "outputs": [
    {
     "data": {
      "text/plain": [
       "['************* Module core.parsing.pylint_parse',\n",
       " 'core\\\\parsing\\\\pylint_parse.py:1:0: C0111: Missing module docstring (missing-docstring)',\n",
       " 'core\\\\parsing\\\\pylint_parse.py:27:15: C1801: Do not use `len(SEQUENCE)` to determine if a sequence is empty (len-as-condition)',\n",
       " 'core\\\\parsing\\\\pylint_parse.py:30:15: C1801: Do not use `len(SEQUENCE)` to determine if a sequence is empty (len-as-condition)',\n",
       " 'core\\\\parsing\\\\pylint_parse.py:126:0: C0111: Missing function docstring (missing-docstring)',\n",
       " 'core\\\\parsing\\\\pylint_parse.py:2:0: C0411: standard import \"from typing import List, Tuple\" should be placed before \"from IPython.utils.capture import CapturedIO\" (wrong-import-order)',\n",
       " 'core\\\\parsing\\\\pylint_parse.py:3:0: C0411: standard import \"from collections import OrderedDict\" should be placed before \"from IPython.utils.capture import CapturedIO\" (wrong-import-order)',\n",
       " '',\n",
       " '-----------------------------------',\n",
       " '',\n",
       " 'Your code has been rated at 9.26/10']"
      ]
     },
     "execution_count": 37,
     "metadata": {},
     "output_type": "execute_result"
    }
   ],
   "source": [
    "pylint_pre_process(load_text(target))"
   ]
  },
  {
   "cell_type": "code",
   "execution_count": null,
   "metadata": {},
   "outputs": [],
   "source": []
  }
 ],
 "metadata": {
  "kernelspec": {
   "display_name": "Python 3",
   "language": "python",
   "name": "python3"
  },
  "language_info": {
   "codemirror_mode": {
    "name": "ipython",
    "version": 3
   },
   "file_extension": ".py",
   "mimetype": "text/x-python",
   "name": "python",
   "nbconvert_exporter": "python",
   "pygments_lexer": "ipython3",
   "version": "3.6.6"
  }
 },
 "nbformat": 4,
 "nbformat_minor": 2
}
